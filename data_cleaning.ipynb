{
 "cells": [
  {
   "cell_type": "markdown",
   "id": "4d1c7f19-a993-4efa-8875-8ee835efae5a",
   "metadata": {},
   "source": [
    "### This file handles:\n",
    "\n",
    "* Loading raw CSVs\n",
    "\n",
    "* Renaming columns\n",
    "\n",
    "* Cleaning column names and values\n",
    "\n",
    "* Handling missing values / duplicates\n",
    "\n",
    "* Date formatting\n",
    "\n",
    "* Saving cleaned CSVs"
   ]
  },
  {
   "cell_type": "code",
   "execution_count": 2,
   "id": "682447f0-9953-40a2-896d-d79404b02df7",
   "metadata": {},
   "outputs": [],
   "source": [
    "# Step 1: Import pandas\n",
    "\n",
    "import pandas as pd"
   ]
  },
  {
   "cell_type": "code",
   "execution_count": 3,
   "id": "d944a048-bffe-43bc-a4b7-50417718ad44",
   "metadata": {},
   "outputs": [],
   "source": [
    "# Step 2: Load both datasets"
   ]
  },
  {
   "cell_type": "code",
   "execution_count": 4,
   "id": "56b6a164-cb89-47f3-8ed2-06de39872708",
   "metadata": {},
   "outputs": [],
   "source": [
    "# Adjust paths if needed\n",
    "orders_path = \"C:/DataCapstone/customer-behavior-ecommerce/data/raw/Online_e-commerce_orders.csv\"\n",
    "customers_path = \"C:/DataCapstone/customer-behavior-ecommerce/data/raw/ecommerce_customer_data_custom_ratios.csv\"\n",
    "\n",
    "df_orders = pd.read_csv(orders_path)\n",
    "df_customers = pd.read_csv(customers_path)"
   ]
  },
  {
   "cell_type": "code",
   "execution_count": 5,
   "id": "9896ce2c-60c7-4060-ad39-31f17139bdfd",
   "metadata": {},
   "outputs": [],
   "source": [
    "# Step 3: Standardize Column Names"
   ]
  },
  {
   "cell_type": "code",
   "execution_count": 6,
   "id": "dad6359d-b7fd-4da6-bb73-1855ff5a167f",
   "metadata": {},
   "outputs": [],
   "source": [
    "def clean_columns(df):\n",
    "    return df.rename(columns=lambda x: x.strip().lower().replace(\" \", \"_\"))\n",
    "\n",
    "df_orders = clean_columns(df_orders)\n",
    "df_customers = clean_columns(df_customers)"
   ]
  },
  {
   "cell_type": "code",
   "execution_count": 7,
   "id": "c527c6e3-651e-4842-a5c7-ea213ffb80d1",
   "metadata": {},
   "outputs": [],
   "source": [
    "# Step 4: Handle Missing Values"
   ]
  },
  {
   "cell_type": "code",
   "execution_count": 8,
   "id": "1de124e0-0a45-4e2f-8f30-012a9ebec684",
   "metadata": {},
   "outputs": [
    {
     "name": "stdout",
     "output_type": "stream",
     "text": [
      "Orders missing values:\n",
      " order_number           15\n",
      "state_code             15\n",
      "customer_name          15\n",
      "order_date             15\n",
      "status                 15\n",
      "product                15\n",
      "category               15\n",
      "brand                  15\n",
      "cost                   15\n",
      "sales                  15\n",
      "quantity               15\n",
      "total_cost             15\n",
      "total_sales            15\n",
      "assigned_supervisor    15\n",
      "dtype: int64\n",
      "\n",
      "Customers missing values:\n",
      " customer_id                  0\n",
      "purchase_date                0\n",
      "product_category             0\n",
      "product_price                0\n",
      "quantity                     0\n",
      "total_purchase_amount        0\n",
      "payment_method               0\n",
      "customer_age                 0\n",
      "returns                  47596\n",
      "customer_name                0\n",
      "age                          0\n",
      "gender                       0\n",
      "churn                        0\n",
      "dtype: int64\n"
     ]
    }
   ],
   "source": [
    "# Check missing values\n",
    "print(\"Orders missing values:\\n\", df_orders.isnull().sum())\n",
    "print(\"\\nCustomers missing values:\\n\", df_customers.isnull().sum())\n",
    "\n",
    "# Drop rows with critical missing values (optional)\n",
    "df_orders.dropna(subset=[\"customer_name\", \"order_number\"], inplace=True)\n",
    "df_customers.dropna(subset=[\"customer_name\"], inplace=True)\n",
    "\n",
    "# Optionally fill or drop others\n",
    "df_orders.fillna(0, inplace=True)  # or use df_orders.dropna()\n"
   ]
  },
  {
   "cell_type": "code",
   "execution_count": null,
   "id": "01c7a1f4-7a1c-40b6-84e3-436eabcc0b47",
   "metadata": {},
   "outputs": [],
   "source": [
    "# Step 5: Convert Date Columns to datetime"
   ]
  },
  {
   "cell_type": "code",
   "execution_count": 9,
   "id": "48badc55-8fac-41b2-977c-e66b91b78047",
   "metadata": {},
   "outputs": [],
   "source": [
    "df_orders[\"order_date\"] = pd.to_datetime(df_orders[\"order_date\"], errors='coerce')\n",
    "df_customers[\"purchase_date\"] = pd.to_datetime(df_customers[\"purchase_date\"], errors='coerce')"
   ]
  },
  {
   "cell_type": "code",
   "execution_count": 10,
   "id": "bc00de03-b26f-4bb8-adaf-9c69d57614ba",
   "metadata": {},
   "outputs": [],
   "source": [
    "# Step 6: Remove Duplicates"
   ]
  },
  {
   "cell_type": "code",
   "execution_count": 11,
   "id": "ae31db8c-f3dc-4f09-a0e7-e0072a2329fc",
   "metadata": {},
   "outputs": [],
   "source": [
    "df_orders = df_orders.drop_duplicates()\n",
    "df_customers = df_customers.drop_duplicates()\n"
   ]
  },
  {
   "cell_type": "code",
   "execution_count": null,
   "id": "5a514e0b-5937-45d4-8cfd-f0120c6e9d89",
   "metadata": {},
   "outputs": [],
   "source": [
    "# Step 7: Save Cleaned Versions (Optional) ---I have to save It as I will work with the cleaned data"
   ]
  },
  {
   "cell_type": "code",
   "execution_count": 12,
   "id": "924ef54a-3917-4137-aa35-f07652a1d1a7",
   "metadata": {},
   "outputs": [],
   "source": [
    "df_orders.to_csv(\"C:/DataCapstone/customer-behavior-ecommerce/data/cleaned/cleaned_orders.csv\", index=False)\n",
    "df_customers.to_csv(\"C:/DataCapstone/customer-behavior-ecommerce/data/cleaned/cleaned_customers.csv\", index=False)"
   ]
  },
  {
   "cell_type": "code",
   "execution_count": 2,
   "id": "b1ba2a39-4941-41ee-9327-ae1eb0a6c611",
   "metadata": {},
   "outputs": [
    {
     "name": "stdout",
     "output_type": "stream",
     "text": [
      "📦 Raw Orders - Number of records: 5110\n",
      "📦 Raw Customers - Number of records: 250000\n"
     ]
    }
   ],
   "source": [
    "import pandas as pd\n",
    "\n",
    "# Raw data file paths\n",
    "orders_path = \"C:/DataCapstone/customer-behavior-ecommerce/data/raw/Online_e-commerce_orders.csv\"\n",
    "customers_path = \"C:/DataCapstone/customer-behavior-ecommerce/data/raw/ecommerce_customer_data_custom_ratios.csv\"\n",
    "\n",
    "# Load raw datasets\n",
    "df_raw_orders = pd.read_csv(orders_path)\n",
    "df_raw_customers = pd.read_csv(customers_path)\n",
    "\n",
    "# Print number of records\n",
    "print(\"📦 Raw Orders - Number of records:\", len(df_raw_orders))\n",
    "print(\"📦 Raw Customers - Number of records:\", len(df_raw_customers))\n"
   ]
  },
  {
   "cell_type": "code",
   "execution_count": null,
   "id": "33d93281-a1b7-44d0-9bfb-1867d98579ed",
   "metadata": {},
   "outputs": [],
   "source": []
  }
 ],
 "metadata": {
  "kernelspec": {
   "display_name": "Python (churn_venv)",
   "language": "python",
   "name": "churn_venv"
  },
  "language_info": {
   "codemirror_mode": {
    "name": "ipython",
    "version": 3
   },
   "file_extension": ".py",
   "mimetype": "text/x-python",
   "name": "python",
   "nbconvert_exporter": "python",
   "pygments_lexer": "ipython3",
   "version": "3.11.9"
  }
 },
 "nbformat": 4,
 "nbformat_minor": 5
}
