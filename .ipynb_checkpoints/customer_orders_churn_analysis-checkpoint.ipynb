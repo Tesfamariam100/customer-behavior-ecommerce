{
 "cells": [
  {
   "cell_type": "code",
   "execution_count": null,
   "id": "189cd6b4-0269-4521-9f9d-b23673a229d9",
   "metadata": {},
   "outputs": [],
   "source": [
    "import pandas as pd"
   ]
  },
  {
   "cell_type": "code",
   "execution_count": 50,
   "id": "3de17520-3096-428e-97e7-98d8574a2ac6",
   "metadata": {},
   "outputs": [],
   "source": [
    "orders_path = \"C:\\DataCapstone\\customer-behavior-ecommerce\\data\\raw/Online_e-commerce_orders.csv\"\n",
    "customers_path = \"C:\\DataCapstone\\customer-behavior-ecommerce\\data\\raw/ecommerce_customer_data_custom_ratios.csv\"\n"
   ]
  },
  {
   "cell_type": "code",
   "execution_count": 47,
   "id": "824f8352-e48e-4c7e-8960-89354ccc7d77",
   "metadata": {},
   "outputs": [],
   "source": [
    "df_orders = pd.read_csv(\"C:/DataCapstone/customer-behavior-ecommerce/data/raw/Online_e-commerce_orders.csv\")\n",
    "df_customers = pd.read_csv(\"C:/DataCapstone/customer-behavior-ecommerce/data/raw/ecommerce_customer_data_custom_ratios.csv\")\n"
   ]
  },
  {
   "cell_type": "code",
   "execution_count": 54,
   "id": "e0f3a97b-269c-4ac7-a97f-d65fe522d034",
   "metadata": {},
   "outputs": [],
   "source": [
    "# Clean column names\n",
    "df_orders.columns = df_orders.columns.str.lower().str.strip().str.replace(' ', '_')\n",
    "df_customers.columns = df_customers.columns.str.lower().str.strip().str.replace(' ', '_')\n",
    "\n",
    "# Clean the actual customer_name values\n",
    "df_orders['customer_name'] = df_orders['customer_name'].str.lower().str.strip()\n",
    "df_customers['customer_name'] = df_customers['customer_name'].str.lower().str.strip()\n"
   ]
  },
  {
   "cell_type": "code",
   "execution_count": 55,
   "id": "f6148349-f355-4890-b3d6-214e75d6e5ca",
   "metadata": {},
   "outputs": [
    {
     "name": "stdout",
     "output_type": "stream",
     "text": [
      "Index(['order_number', 'state_code', 'customer_name', 'order_date', 'status',\n",
      "       'product', 'category', 'brand', 'cost', 'sales', 'quantity',\n",
      "       'total_cost', 'total_sales', 'assigned_supervisor'],\n",
      "      dtype='object')\n",
      "Index(['customer_id', 'purchase_date', 'product_category', 'product_price',\n",
      "       'quantity', 'total_purchase_amount', 'payment_method', 'customer_age',\n",
      "       'returns', 'customer_name', 'age', 'gender', 'churn'],\n",
      "      dtype='object')\n"
     ]
    }
   ],
   "source": [
    "print(df_orders.columns)\n",
    "print(df_customers.columns)\n"
   ]
  },
  {
   "cell_type": "code",
   "execution_count": 56,
   "id": "f6d04bf2-fdb2-4776-a064-b32643c01e73",
   "metadata": {},
   "outputs": [
    {
     "name": "stdout",
     "output_type": "stream",
     "text": [
      "(0, 26)\n"
     ]
    },
    {
     "data": {
      "text/html": [
       "<div>\n",
       "<style scoped>\n",
       "    .dataframe tbody tr th:only-of-type {\n",
       "        vertical-align: middle;\n",
       "    }\n",
       "\n",
       "    .dataframe tbody tr th {\n",
       "        vertical-align: top;\n",
       "    }\n",
       "\n",
       "    .dataframe thead th {\n",
       "        text-align: right;\n",
       "    }\n",
       "</style>\n",
       "<table border=\"1\" class=\"dataframe\">\n",
       "  <thead>\n",
       "    <tr style=\"text-align: right;\">\n",
       "      <th></th>\n",
       "      <th>customer_id</th>\n",
       "      <th>purchase_date</th>\n",
       "      <th>product_category</th>\n",
       "      <th>product_price</th>\n",
       "      <th>quantity_x</th>\n",
       "      <th>total_purchase_amount</th>\n",
       "      <th>payment_method</th>\n",
       "      <th>customer_age</th>\n",
       "      <th>returns</th>\n",
       "      <th>customer_name</th>\n",
       "      <th>...</th>\n",
       "      <th>status</th>\n",
       "      <th>product</th>\n",
       "      <th>category</th>\n",
       "      <th>brand</th>\n",
       "      <th>cost</th>\n",
       "      <th>sales</th>\n",
       "      <th>quantity_y</th>\n",
       "      <th>total_cost</th>\n",
       "      <th>total_sales</th>\n",
       "      <th>assigned_supervisor</th>\n",
       "    </tr>\n",
       "  </thead>\n",
       "  <tbody>\n",
       "  </tbody>\n",
       "</table>\n",
       "<p>0 rows × 26 columns</p>\n",
       "</div>"
      ],
      "text/plain": [
       "Empty DataFrame\n",
       "Columns: [customer_id, purchase_date, product_category, product_price, quantity_x, total_purchase_amount, payment_method, customer_age, returns, customer_name, age, gender, churn, order_number, state_code, order_date, status, product, category, brand, cost, sales, quantity_y, total_cost, total_sales, assigned_supervisor]\n",
       "Index: []\n",
       "\n",
       "[0 rows x 26 columns]"
      ]
     },
     "execution_count": 56,
     "metadata": {},
     "output_type": "execute_result"
    }
   ],
   "source": [
    "merged_df = pd.merge(df_customers, df_orders, on='customer_name', how='inner')\n",
    "print(merged_df.shape)\n",
    "merged_df.head()\n"
   ]
  },
  {
   "cell_type": "code",
   "execution_count": 57,
   "id": "fa23a97b-bcd0-4254-9538-c4f1f3c5c66e",
   "metadata": {},
   "outputs": [],
   "source": [
    "# Create a dictionary that maps customer names to unique IDs\n",
    "name_to_id = {name: f\"CUST_{i+1:04d}\" for i, name in enumerate(df_customers['customer_name'].unique())}\n"
   ]
  },
  {
   "cell_type": "code",
   "execution_count": 58,
   "id": "aa073427-cd54-4d07-afd2-b542ccee5336",
   "metadata": {},
   "outputs": [],
   "source": [
    "# Replace customer_name with anonymized customer_id in both datasets\n",
    "df_customers['customer_id'] = df_customers['customer_name'].map(name_to_id)\n",
    "df_orders['customer_id'] = df_orders['customer_name'].map(name_to_id)\n"
   ]
  },
  {
   "cell_type": "code",
   "execution_count": 59,
   "id": "120876b4-9501-4d16-b0cd-06a223991a11",
   "metadata": {},
   "outputs": [],
   "source": [
    "df_customers.drop(columns='customer_name', inplace=True)\n",
    "df_orders.drop(columns='customer_name', inplace=True)\n"
   ]
  },
  {
   "cell_type": "code",
   "execution_count": 60,
   "id": "7b599b09-11bd-4aaf-b94e-4b0291552e5b",
   "metadata": {},
   "outputs": [
    {
     "name": "stdout",
     "output_type": "stream",
     "text": [
      "(0, 25)\n"
     ]
    },
    {
     "data": {
      "text/html": [
       "<div>\n",
       "<style scoped>\n",
       "    .dataframe tbody tr th:only-of-type {\n",
       "        vertical-align: middle;\n",
       "    }\n",
       "\n",
       "    .dataframe tbody tr th {\n",
       "        vertical-align: top;\n",
       "    }\n",
       "\n",
       "    .dataframe thead th {\n",
       "        text-align: right;\n",
       "    }\n",
       "</style>\n",
       "<table border=\"1\" class=\"dataframe\">\n",
       "  <thead>\n",
       "    <tr style=\"text-align: right;\">\n",
       "      <th></th>\n",
       "      <th>customer_id</th>\n",
       "      <th>purchase_date</th>\n",
       "      <th>product_category</th>\n",
       "      <th>product_price</th>\n",
       "      <th>quantity_x</th>\n",
       "      <th>total_purchase_amount</th>\n",
       "      <th>payment_method</th>\n",
       "      <th>customer_age</th>\n",
       "      <th>returns</th>\n",
       "      <th>age</th>\n",
       "      <th>...</th>\n",
       "      <th>status</th>\n",
       "      <th>product</th>\n",
       "      <th>category</th>\n",
       "      <th>brand</th>\n",
       "      <th>cost</th>\n",
       "      <th>sales</th>\n",
       "      <th>quantity_y</th>\n",
       "      <th>total_cost</th>\n",
       "      <th>total_sales</th>\n",
       "      <th>assigned_supervisor</th>\n",
       "    </tr>\n",
       "  </thead>\n",
       "  <tbody>\n",
       "  </tbody>\n",
       "</table>\n",
       "<p>0 rows × 25 columns</p>\n",
       "</div>"
      ],
      "text/plain": [
       "Empty DataFrame\n",
       "Columns: [customer_id, purchase_date, product_category, product_price, quantity_x, total_purchase_amount, payment_method, customer_age, returns, age, gender, churn, order_number, state_code, order_date, status, product, category, brand, cost, sales, quantity_y, total_cost, total_sales, assigned_supervisor]\n",
       "Index: []\n",
       "\n",
       "[0 rows x 25 columns]"
      ]
     },
     "execution_count": 60,
     "metadata": {},
     "output_type": "execute_result"
    }
   ],
   "source": [
    "merged_df = pd.merge(df_customers, df_orders, on='customer_id', how='inner')\n",
    "print(merged_df.shape)\n",
    "merged_df.head()\n"
   ]
  },
  {
   "cell_type": "code",
   "execution_count": 61,
   "id": "fe11a2c8-6bca-42d9-b9f4-74942e09ede7",
   "metadata": {},
   "outputs": [
    {
     "ename": "KeyError",
     "evalue": "'customer_name'",
     "output_type": "error",
     "traceback": [
      "\u001b[31m----------------------------------------------------------------\u001b[39m",
      "\u001b[31mKeyError\u001b[39m                       Traceback (most recent call last)",
      "\u001b[36mFile \u001b[39m\u001b[32mC:\\DataCapstone\\customer-behavior-ecommerce\\churn_venv\\Lib\\site-packages\\pandas\\core\\indexes\\base.py:3805\u001b[39m, in \u001b[36mIndex.get_loc\u001b[39m\u001b[34m(self, key)\u001b[39m\n\u001b[32m   3804\u001b[39m \u001b[38;5;28;01mtry\u001b[39;00m:\n\u001b[32m-> \u001b[39m\u001b[32m3805\u001b[39m     \u001b[38;5;28;01mreturn\u001b[39;00m \u001b[38;5;28;43mself\u001b[39;49m\u001b[43m.\u001b[49m\u001b[43m_engine\u001b[49m\u001b[43m.\u001b[49m\u001b[43mget_loc\u001b[49m\u001b[43m(\u001b[49m\u001b[43mcasted_key\u001b[49m\u001b[43m)\u001b[49m\n\u001b[32m   3806\u001b[39m \u001b[38;5;28;01mexcept\u001b[39;00m \u001b[38;5;167;01mKeyError\u001b[39;00m \u001b[38;5;28;01mas\u001b[39;00m err:\n",
      "\u001b[36mFile \u001b[39m\u001b[32mindex.pyx:167\u001b[39m, in \u001b[36mpandas._libs.index.IndexEngine.get_loc\u001b[39m\u001b[34m()\u001b[39m\n",
      "\u001b[36mFile \u001b[39m\u001b[32mindex.pyx:196\u001b[39m, in \u001b[36mpandas._libs.index.IndexEngine.get_loc\u001b[39m\u001b[34m()\u001b[39m\n",
      "\u001b[36mFile \u001b[39m\u001b[32mpandas\\\\_libs\\\\hashtable_class_helper.pxi:7081\u001b[39m, in \u001b[36mpandas._libs.hashtable.PyObjectHashTable.get_item\u001b[39m\u001b[34m()\u001b[39m\n",
      "\u001b[36mFile \u001b[39m\u001b[32mpandas\\\\_libs\\\\hashtable_class_helper.pxi:7089\u001b[39m, in \u001b[36mpandas._libs.hashtable.PyObjectHashTable.get_item\u001b[39m\u001b[34m()\u001b[39m\n",
      "\u001b[31mKeyError\u001b[39m: 'customer_name'",
      "\nThe above exception was the direct cause of the following exception:\n",
      "\u001b[31mKeyError\u001b[39m                       Traceback (most recent call last)",
      "\u001b[36mCell\u001b[39m\u001b[36m \u001b[39m\u001b[32mIn[61]\u001b[39m\u001b[32m, line 2\u001b[39m\n\u001b[32m      1\u001b[39m \u001b[38;5;66;03m# Find common customer names across both datasets\u001b[39;00m\n\u001b[32m----> \u001b[39m\u001b[32m2\u001b[39m common_names = \u001b[38;5;28mset\u001b[39m(\u001b[43mdf_customers\u001b[49m\u001b[43m[\u001b[49m\u001b[33;43m'\u001b[39;49m\u001b[33;43mcustomer_name\u001b[39;49m\u001b[33;43m'\u001b[39;49m\u001b[43m]\u001b[49m).intersection(\u001b[38;5;28mset\u001b[39m(df_orders[\u001b[33m'\u001b[39m\u001b[33mcustomer_name\u001b[39m\u001b[33m'\u001b[39m]))\n\u001b[32m      3\u001b[39m \u001b[38;5;28mprint\u001b[39m(\u001b[38;5;28mlen\u001b[39m(common_names))\n",
      "\u001b[36mFile \u001b[39m\u001b[32mC:\\DataCapstone\\customer-behavior-ecommerce\\churn_venv\\Lib\\site-packages\\pandas\\core\\frame.py:4102\u001b[39m, in \u001b[36mDataFrame.__getitem__\u001b[39m\u001b[34m(self, key)\u001b[39m\n\u001b[32m   4100\u001b[39m \u001b[38;5;28;01mif\u001b[39;00m \u001b[38;5;28mself\u001b[39m.columns.nlevels > \u001b[32m1\u001b[39m:\n\u001b[32m   4101\u001b[39m     \u001b[38;5;28;01mreturn\u001b[39;00m \u001b[38;5;28mself\u001b[39m._getitem_multilevel(key)\n\u001b[32m-> \u001b[39m\u001b[32m4102\u001b[39m indexer = \u001b[38;5;28;43mself\u001b[39;49m\u001b[43m.\u001b[49m\u001b[43mcolumns\u001b[49m\u001b[43m.\u001b[49m\u001b[43mget_loc\u001b[49m\u001b[43m(\u001b[49m\u001b[43mkey\u001b[49m\u001b[43m)\u001b[49m\n\u001b[32m   4103\u001b[39m \u001b[38;5;28;01mif\u001b[39;00m is_integer(indexer):\n\u001b[32m   4104\u001b[39m     indexer = [indexer]\n",
      "\u001b[36mFile \u001b[39m\u001b[32mC:\\DataCapstone\\customer-behavior-ecommerce\\churn_venv\\Lib\\site-packages\\pandas\\core\\indexes\\base.py:3812\u001b[39m, in \u001b[36mIndex.get_loc\u001b[39m\u001b[34m(self, key)\u001b[39m\n\u001b[32m   3807\u001b[39m     \u001b[38;5;28;01mif\u001b[39;00m \u001b[38;5;28misinstance\u001b[39m(casted_key, \u001b[38;5;28mslice\u001b[39m) \u001b[38;5;129;01mor\u001b[39;00m (\n\u001b[32m   3808\u001b[39m         \u001b[38;5;28misinstance\u001b[39m(casted_key, abc.Iterable)\n\u001b[32m   3809\u001b[39m         \u001b[38;5;129;01mand\u001b[39;00m \u001b[38;5;28many\u001b[39m(\u001b[38;5;28misinstance\u001b[39m(x, \u001b[38;5;28mslice\u001b[39m) \u001b[38;5;28;01mfor\u001b[39;00m x \u001b[38;5;129;01min\u001b[39;00m casted_key)\n\u001b[32m   3810\u001b[39m     ):\n\u001b[32m   3811\u001b[39m         \u001b[38;5;28;01mraise\u001b[39;00m InvalidIndexError(key)\n\u001b[32m-> \u001b[39m\u001b[32m3812\u001b[39m     \u001b[38;5;28;01mraise\u001b[39;00m \u001b[38;5;167;01mKeyError\u001b[39;00m(key) \u001b[38;5;28;01mfrom\u001b[39;00m\u001b[38;5;250m \u001b[39m\u001b[34;01merr\u001b[39;00m\n\u001b[32m   3813\u001b[39m \u001b[38;5;28;01mexcept\u001b[39;00m \u001b[38;5;167;01mTypeError\u001b[39;00m:\n\u001b[32m   3814\u001b[39m     \u001b[38;5;66;03m# If we have a listlike key, _check_indexing_error will raise\u001b[39;00m\n\u001b[32m   3815\u001b[39m     \u001b[38;5;66;03m#  InvalidIndexError. Otherwise we fall through and re-raise\u001b[39;00m\n\u001b[32m   3816\u001b[39m     \u001b[38;5;66;03m#  the TypeError.\u001b[39;00m\n\u001b[32m   3817\u001b[39m     \u001b[38;5;28mself\u001b[39m._check_indexing_error(key)\n",
      "\u001b[31mKeyError\u001b[39m: 'customer_name'"
     ]
    }
   ],
   "source": [
    "# Find common customer names across both datasets\n",
    "common_names = set(df_customers['customer_name']).intersection(set(df_orders['customer_name']))\n",
    "print(len(common_names))\n"
   ]
  },
  {
   "cell_type": "code",
   "execution_count": 62,
   "id": "1ea797c2-5691-4b34-b51d-ca874ac8822e",
   "metadata": {},
   "outputs": [],
   "source": [
    "# Load the raw datasets again (to get back 'customer_name')\n",
    "import pandas as pd\n",
    "\n",
    "orders_path = \"C:/DataCapstone/customer-behavior-ecommerce/data/raw/Online_e-commerce_orders.csv\"\n",
    "customers_path = \"C:/DataCapstone/customer-behavior-ecommerce/data/raw/ecommerce_customer_data_custom_ratios.csv\"\n",
    "\n",
    "df_orders = pd.read_csv(orders_path)\n",
    "df_customers = pd.read_csv(customers_path)\n"
   ]
  },
  {
   "cell_type": "code",
   "execution_count": 63,
   "id": "daf6feca-08b7-46ba-a7af-d54daf88145c",
   "metadata": {},
   "outputs": [
    {
     "name": "stdout",
     "output_type": "stream",
     "text": [
      "'customer_name' in df_orders: True\n",
      "'customer_name' in df_customers: True\n"
     ]
    }
   ],
   "source": [
    "# Clean column headers and customer name values\n",
    "df_orders.columns = df_orders.columns.str.lower().str.strip().str.replace(\" \", \"_\")\n",
    "df_customers.columns = df_customers.columns.str.lower().str.strip().str.replace(\" \", \"_\")\n",
    "\n",
    "# Check if 'customer_name' is back\n",
    "print(\"'customer_name' in df_orders:\", 'customer_name' in df_orders.columns)\n",
    "print(\"'customer_name' in df_customers:\", 'customer_name' in df_customers.columns)\n"
   ]
  },
  {
   "cell_type": "code",
   "execution_count": 64,
   "id": "ae17f1a5-c7b5-4e3e-9747-2f3f8561899e",
   "metadata": {},
   "outputs": [
    {
     "name": "stdout",
     "output_type": "stream",
     "text": [
      "Number of matching customer names: 0\n"
     ]
    }
   ],
   "source": [
    "common_names = set(df_customers['customer_name']).intersection(set(df_orders['customer_name']))\n",
    "print(f\"Number of matching customer names: {len(common_names)}\")\n"
   ]
  },
  {
   "cell_type": "code",
   "execution_count": 65,
   "id": "afc77217-4672-4109-9fc7-fa034b1ebc75",
   "metadata": {},
   "outputs": [
    {
     "name": "stdout",
     "output_type": "stream",
     "text": [
      "Customer names from df_customers:\n",
      "['Christine Hernandez' 'James Grant' 'Jose Collier' 'James Stein'\n",
      " 'Sonia Moreno']\n",
      "\n",
      "Customer names from df_orders:\n",
      "['Adhir Samal' 'Dannana Jhammi' 'Vipin Kumar' 'Ranjeet Kumar'\n",
      " 'Sajal Singhal']\n"
     ]
    }
   ],
   "source": [
    "print(\"Customer names from df_customers:\")\n",
    "print(df_customers['customer_name'].dropna().unique()[:5])\n",
    "\n",
    "print(\"\\nCustomer names from df_orders:\")\n",
    "print(df_orders['customer_name'].dropna().unique()[:5])\n"
   ]
  },
  {
   "cell_type": "code",
   "execution_count": null,
   "id": "dda663b3-7174-4e61-b3f8-5e31cf43e07b",
   "metadata": {},
   "outputs": [],
   "source": []
  }
 ],
 "metadata": {
  "kernelspec": {
   "display_name": "Python (churn_venv)",
   "language": "python",
   "name": "churn_venv"
  },
  "language_info": {
   "codemirror_mode": {
    "name": "ipython",
    "version": 3
   },
   "file_extension": ".py",
   "mimetype": "text/x-python",
   "name": "python",
   "nbconvert_exporter": "python",
   "pygments_lexer": "ipython3",
   "version": "3.11.9"
  }
 },
 "nbformat": 4,
 "nbformat_minor": 5
}
